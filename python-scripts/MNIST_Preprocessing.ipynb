{
 "cells": [
  {
   "cell_type": "markdown",
   "metadata": {
    "id": "q-r32wUK5kXE"
   },
   "source": [
    "# Converting MNIST files to images"
   ]
  },
  {
   "cell_type": "code",
   "execution_count": 52,
   "metadata": {
    "id": "-7AlIKt95wCC"
   },
   "outputs": [],
   "source": [
    "import gzip\n",
    "import numpy as np\n",
    "import matplotlib.pyplot as plt"
   ]
  },
  {
   "cell_type": "markdown",
   "metadata": {
    "id": "VsiT-l9q5qMU"
   },
   "source": [
    "This script was inspired by the discussion in:  \n",
    "https://stackoverflow.com/questions/40427435/extract-images-from-idx3-ubyte-file-or-gzip-via-python"
   ]
  },
  {
   "cell_type": "code",
   "execution_count": 56,
   "metadata": {
    "colab": {
     "base_uri": "https://localhost:8080/",
     "height": 252
    },
    "id": "jsIXR5Rf3AXq",
    "outputId": "b8ea9c39-40cb-4bbf-f8e5-38b9ae5c66b8"
   },
   "outputs": [
    {
     "data": {
      "image/png": "[encoded data removed]",
      "text/plain": [
       "<Figure size 432x288 with 1 Axes>"
      ]
     },
     "metadata": {},
     "output_type": "display_data"
    }
   ],
   "source": [
    "path = 'MNIST/samples/'\n",
    "outputpath = 'MNIST/samples/outputs/'\n",
    "\n",
    "# Download the MNIST files at: http://yann.lecun.com/exdb/mnist/\n",
    "f = gzip.open(path + 'train-images-idx3-ubyte.gz','r')\n",
    "\n",
    "# The images were centered in a 28x28 image by computing the center of mass of\n",
    "# the pixels, and translating the image so as to position this point at the\n",
    "# center of the 28x28 field.\n",
    "image_size = 28\n",
    "num_images = 60000\n",
    "f.read(16)\n",
    "\n",
    "buf = f.read(image_size * image_size * num_images)\n",
    "data = np.frombuffer(buf, dtype=np.uint8).astype(np.float32)\n",
    "data = data.reshape(num_images, image_size, image_size, 1)\n",
    "\n",
    "# Example: Save image 300\n",
    "image = np.asarray(data[300]).squeeze()\n",
    "plt.imshow(image, cmap='gray')\n",
    "plt.xticks([])\n",
    "plt.yticks([])\n",
    "plt.savefig(outputpath + 'image553.png')"
   ]
  }
 ],
 "metadata": {
  "colab": {
   "collapsed_sections": [],
   "name": "MNIST-Preprocessing.ipynb",
   "provenance": []
  },
  "kernelspec": {
   "display_name": "Python 3",
   "language": "python",
   "name": "python3"
  },
  "language_info": {
   "codemirror_mode": {
    "name": "ipython",
    "version": 3
   },
   "file_extension": ".py",
   "mimetype": "text/x-python",
   "name": "python",
   "nbconvert_exporter": "python",
   "pygments_lexer": "ipython3",
   "version": "3.8.5"
  }
 },
 "nbformat": 4,
 "nbformat_minor": 4
}
